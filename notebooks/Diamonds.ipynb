{
 "cells": [
  {
   "cell_type": "markdown",
   "id": "18f7365b-51cd-4635-b063-b625595ba015",
   "metadata": {},
   "source": [
    "## Dataset\n",
    "The dataset provides information on diamond prices and their attributes that impact their value, expressed in 2008 US Dollars.\n",
    "The dataset includes both categorical and measurements data"
   ]
  },
  {
   "cell_type": "markdown",
   "id": "5a314136-e4f6-47b5-87fa-a43e1704ab8f",
   "metadata": {},
   "source": [
    "## Libraries and Tools used"
   ]
  },
  {
   "cell_type": "code",
   "execution_count": null,
   "id": "58469923-8e1d-4257-84fd-aaa8a4190b59",
   "metadata": {},
   "outputs": [],
   "source": [
    "# Essentials\n",
    "import pandas as pd\n",
    "import numpy as np\n",
    "import matplotlib.pyplot as plt\n",
    "import os\n",
    "import pickle\n",
    "import json\n",
    "\n",
    "# Required \n",
    "import plotly.express as px\n",
    "import optuna\n",
    "import xgboost\n",
    "import shutil\n",
    "\n",
    "# Specific from modules\n",
    "from datetime import datetime\n",
    "from pandas.plotting import scatter_matrix\n",
    "from sklearn.linear_model import LinearRegression\n",
    "from sklearn.model_selection import train_test_split\n",
    "from sklearn.metrics import r2_score, mean_absolute_error"
   ]
  },
  {
   "cell_type": "code",
   "execution_count": null,
   "id": "4560d6c4-068f-4ab3-a5aa-43ffe5539657",
   "metadata": {},
   "outputs": [],
   "source": [
    "# Global Variables\n",
    "seed = 42\n",
    "model_dir = 'models' # name of the model dir where to save all data\n",
    "\n",
    "path = os.getcwd()                  # path of the notebook\n",
    "base_path = os.path.dirname(path)   # path of the project\n",
    "model_path = os.path.join(base_path, model_dir) # path to model dir"
   ]
  },
  {
   "cell_type": "code",
   "execution_count": null,
   "id": "cb28725f-a656-4317-ac18-c2e804540de0",
   "metadata": {},
   "outputs": [],
   "source": [
    "# data import\n",
    "# in this case the URL is given\n",
    "# alternatives would include to query a DB\n",
    "# or read from filesystem\n",
    "diamonds = pd.read_csv(\"https://raw.githubusercontent.com/xtreamsrl/xtream-ai-assignment-engineer/main/datasets/diamonds/diamonds.csv\")\n",
    "\n",
    "# check no NA data is present in the dataset\n",
    "diamonds.isna().sum()\n",
    "# get the summary of the database\n",
    "diamonds.describe()"
   ]
  },
  {
   "cell_type": "markdown",
   "id": "7b8ce7a7-5a8a-4d0d-97b6-d93e676a747f",
   "metadata": {},
   "source": [
    "## Input data cleaning"
   ]
  },
  {
   "cell_type": "code",
   "execution_count": null,
   "id": "55358b11-ad4e-4882-adab-d53fc40ccc45",
   "metadata": {},
   "outputs": [],
   "source": [
    "# removing if present samples having 0 size or <= 0 prices\n",
    "diamonds = diamonds[(diamonds.x * diamonds.y * diamonds.z != 0) & (diamonds.price > 0)]\n",
    "diamonds.describe()"
   ]
  }
 ],
 "metadata": {
  "kernelspec": {
   "display_name": "Python 3 (ipykernel)",
   "language": "python",
   "name": "python3"
  },
  "language_info": {
   "codemirror_mode": {
    "name": "ipython",
    "version": 3
   },
   "file_extension": ".py",
   "mimetype": "text/x-python",
   "name": "python",
   "nbconvert_exporter": "python",
   "pygments_lexer": "ipython3",
   "version": "3.10.0"
  }
 },
 "nbformat": 4,
 "nbformat_minor": 5
}
